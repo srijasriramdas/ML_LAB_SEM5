{
  "nbformat": 4,
  "nbformat_minor": 0,
  "metadata": {
    "colab": {
      "provenance": [],
      "authorship_tag": "ABX9TyNJvAlQLEocI0DHyIf9Epog",
      "include_colab_link": true
    },
    "kernelspec": {
      "name": "python3",
      "display_name": "Python 3"
    },
    "language_info": {
      "name": "python"
    }
  },
  "cells": [
    {
      "cell_type": "markdown",
      "metadata": {
        "id": "view-in-github",
        "colab_type": "text"
      },
      "source": [
        "<a href=\"https://colab.research.google.com/github/srijasriramdas/ML_LAB_SEM5/blob/main/ML_LAB_SEM5.ipynb\" target=\"_parent\"><img src=\"https://colab.research.google.com/assets/colab-badge.svg\" alt=\"Open In Colab\"/></a>"
      ]
    },
    {
      "cell_type": "code",
      "execution_count": null,
      "metadata": {
        "id": "EzDvPScxTWom"
      },
      "outputs": [],
      "source": [
        "#hello"
      ]
    },
    {
      "cell_type": "code",
      "source": [
        "now line 1 did u receive it yes received"
      ],
      "metadata": {
        "id": "g0do3ioeUz_J"
      },
      "execution_count": null,
      "outputs": []
    }
  ]
}